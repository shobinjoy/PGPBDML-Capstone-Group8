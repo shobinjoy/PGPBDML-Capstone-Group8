{
 "cells": [
  {
   "cell_type": "markdown",
   "metadata": {},
   "source": [
    "## This Jupyter file is to prepare the data for NLP processing of Review text for recommending improvement points for low rated restaurants."
   ]
  },
  {
   "cell_type": "code",
   "execution_count": 1,
   "metadata": {},
   "outputs": [],
   "source": [
    "#Connect to MongoDB\n",
    "import pymongo\n",
    "from pymongo import MongoClient\n",
    "\n",
    "import pandas as pd\n",
    "from pandas import DataFrame\n",
    "\n",
    "pd.options.display.max_columns = 999\n",
    "pd.options.display.max_rows = 999\n",
    "    \n",
    "client = MongoClient('mongodb://localhost:27017')\n",
    "#Get the yelpDB database\n",
    "db = client.yelp"
   ]
  },
  {
   "cell_type": "markdown",
   "metadata": {},
   "source": [
    "### Read AZ_restaurant_review_data collection from mongodb.   \n",
    "#### This collection contains the Reviews details of each business. Filter the content for top 5 cities (Based on the EDA)"
   ]
  },
  {
   "cell_type": "code",
   "execution_count": 2,
   "metadata": {},
   "outputs": [
    {
     "data": {
      "text/plain": [
       "(5451, 16)"
      ]
     },
     "execution_count": 2,
     "metadata": {},
     "output_type": "execute_result"
    }
   ],
   "source": [
    "AZ_restaurant_review_data = db.AZ_restaurant_review_data.find({'city':{\"$in\" : ['Phoenix','Scottsdale','Mesa','Tempe','Chandler']}})\n",
    "AZ_restaurant_review_data_df = DataFrame(list(AZ_restaurant_review_data))\n",
    "AZ_restaurant_review_data_df.shape"
   ]
  },
  {
   "cell_type": "markdown",
   "metadata": {},
   "source": [
    "### Read the cleaned AZ_Restaurant_Final_Clean_Data.csv file with flattened restaurant details. This is the output file from EDA & data cleansing. "
   ]
  },
  {
   "cell_type": "code",
   "execution_count": 3,
   "metadata": {},
   "outputs": [
    {
     "data": {
      "text/plain": [
       "(7367, 234)"
      ]
     },
     "execution_count": 3,
     "metadata": {},
     "output_type": "execute_result"
    }
   ],
   "source": [
    "AZ_Restaurant_Flat_Data= pd.read_csv(\"AZ_Restaurant_Final_Clean_Data.csv\", sep =\";\", index_col=\"Unnamed: 0\")\n",
    "AZ_Restaurant_Flat_Data.shape"
   ]
  },
  {
   "cell_type": "code",
   "execution_count": 4,
   "metadata": {},
   "outputs": [
    {
     "name": "stdout",
     "output_type": "stream",
     "text": [
      "(5451, 10)\n"
     ]
    },
    {
     "data": {
      "text/html": [
       "<div>\n",
       "<style scoped>\n",
       "    .dataframe tbody tr th:only-of-type {\n",
       "        vertical-align: middle;\n",
       "    }\n",
       "\n",
       "    .dataframe tbody tr th {\n",
       "        vertical-align: top;\n",
       "    }\n",
       "\n",
       "    .dataframe thead th {\n",
       "        text-align: right;\n",
       "    }\n",
       "</style>\n",
       "<table border=\"1\" class=\"dataframe\">\n",
       "  <thead>\n",
       "    <tr style=\"text-align: right;\">\n",
       "      <th></th>\n",
       "      <th>Business_id</th>\n",
       "      <th>Name</th>\n",
       "      <th>Address</th>\n",
       "      <th>City</th>\n",
       "      <th>State</th>\n",
       "      <th>Postal_code</th>\n",
       "      <th>Review_count</th>\n",
       "      <th>Review_details</th>\n",
       "      <th>Restaurant_ratings</th>\n",
       "      <th>RestaurantsPriceRange2</th>\n",
       "    </tr>\n",
       "  </thead>\n",
       "  <tbody>\n",
       "    <tr>\n",
       "      <th>0</th>\n",
       "      <td>rDMptJYWtnMhpQu_rRXHng</td>\n",
       "      <td>McDonald's</td>\n",
       "      <td>719 E Thunderbird Rd</td>\n",
       "      <td>Phoenix</td>\n",
       "      <td>AZ</td>\n",
       "      <td>85022</td>\n",
       "      <td>10</td>\n",
       "      <td>[{'review_id': 'bABGON0ehmb7MBJrI02l7Q', 'user...</td>\n",
       "      <td>1.0</td>\n",
       "      <td>1.0</td>\n",
       "    </tr>\n",
       "    <tr>\n",
       "      <th>1</th>\n",
       "      <td>1WBkAuQg81kokZIPMpn9Zg</td>\n",
       "      <td>Charr An American Burger Bar</td>\n",
       "      <td>777 E Thunderbird Rd, Ste 107</td>\n",
       "      <td>Phoenix</td>\n",
       "      <td>AZ</td>\n",
       "      <td>85022</td>\n",
       "      <td>232</td>\n",
       "      <td>[{'review_id': 'xj31weGCI08_2xGQwEx0hA', 'user...</td>\n",
       "      <td>3.0</td>\n",
       "      <td>2.0</td>\n",
       "    </tr>\n",
       "    <tr>\n",
       "      <th>2</th>\n",
       "      <td>iPa__LOhse-hobC2Xmp-Kw</td>\n",
       "      <td>McDonald's</td>\n",
       "      <td>1635 E Camelback Rd</td>\n",
       "      <td>Phoenix</td>\n",
       "      <td>AZ</td>\n",
       "      <td>85016</td>\n",
       "      <td>34</td>\n",
       "      <td>[{'review_id': 'myIo7pMWP6B4XiZYv2EsSQ', 'user...</td>\n",
       "      <td>3.0</td>\n",
       "      <td>1.0</td>\n",
       "    </tr>\n",
       "  </tbody>\n",
       "</table>\n",
       "</div>"
      ],
      "text/plain": [
       "              Business_id                          Name  \\\n",
       "0  rDMptJYWtnMhpQu_rRXHng                    McDonald's   \n",
       "1  1WBkAuQg81kokZIPMpn9Zg  Charr An American Burger Bar   \n",
       "2  iPa__LOhse-hobC2Xmp-Kw                    McDonald's   \n",
       "\n",
       "                         Address     City State Postal_code  Review_count  \\\n",
       "0           719 E Thunderbird Rd  Phoenix    AZ       85022            10   \n",
       "1  777 E Thunderbird Rd, Ste 107  Phoenix    AZ       85022           232   \n",
       "2            1635 E Camelback Rd  Phoenix    AZ       85016            34   \n",
       "\n",
       "                                      Review_details  Restaurant_ratings  \\\n",
       "0  [{'review_id': 'bABGON0ehmb7MBJrI02l7Q', 'user...                 1.0   \n",
       "1  [{'review_id': 'xj31weGCI08_2xGQwEx0hA', 'user...                 3.0   \n",
       "2  [{'review_id': 'myIo7pMWP6B4XiZYv2EsSQ', 'user...                 3.0   \n",
       "\n",
       "   RestaurantsPriceRange2  \n",
       "0                     1.0  \n",
       "1                     2.0  \n",
       "2                     1.0  "
      ]
     },
     "execution_count": 4,
     "metadata": {},
     "output_type": "execute_result"
    }
   ],
   "source": [
    "#Merge the above 2 dataframes to a single dataframe AZ_restrnt_flatten_df\n",
    "AZ_restrnt_flatten_df = pd.merge(AZ_restaurant_review_data_df,AZ_Restaurant_Flat_Data,on = 'business_id')\n",
    "\n",
    "#Below columns would be retained based on what goes into the UI. These columns are chosen based on the valid data available\n",
    "# (least number of Nans)\n",
    "column_list = [\"business_id\", \"name_x\", \"address_x\", \"city_x\", \"state\", \"postal_code_x\", \"review_count_x\", \"review_details\",\n",
    "               \"stars_x\",\"RestaurantsPriceRange2\"]\n",
    "AZ_restrnt_flatten_df = AZ_restrnt_flatten_df[column_list]\n",
    "\n",
    "# Rename the column header with new name\n",
    "column_list_updated = [\"Business_id\", \"Name\", \"Address\", \"City\", \"State\", \"Postal_code\", \"Review_count\", \"Review_details\",\n",
    "                       \"Restaurant_ratings\",\"RestaurantsPriceRange2\"]\n",
    "AZ_restrnt_flatten_df.columns = column_list_updated\n",
    "print(AZ_restrnt_flatten_df.shape)\n",
    "AZ_restrnt_flatten_df.head(3)"
   ]
  },
  {
   "cell_type": "markdown",
   "metadata": {},
   "source": [
    "**Create function to flatten the user review details for each restaurant**"
   ]
  },
  {
   "cell_type": "code",
   "execution_count": 5,
   "metadata": {},
   "outputs": [],
   "source": [
    "def review_flatten(Review_data_Price_rate):\n",
    "    i = 0\n",
    "    j = 0\n",
    "    Price_review_df = pd.DataFrame()\n",
    "    while i < len(Review_data_Price_rate):\n",
    "\n",
    "        review1 = pd.DataFrame(Review_data_Price_rate.iloc[i]['Review_details'])\n",
    "        review1['Business_id'] = Review_data_Price_rate.iloc[i]['Business_id']\n",
    "        Price_review_df = pd.concat([review1,Price_review_df])\n",
    "             \n",
    "        #percentage = (i/len(Review_data_Price_rate))*100\n",
    "        #if(int(round(percentage)) % 10 == 0):\n",
    "        #    print (int(round(percentage)) ,\"%\", i,end =' ')\n",
    "        i +=1\n",
    "    return Price_review_df"
   ]
  },
  {
   "cell_type": "code",
   "execution_count": 6,
   "metadata": {},
   "outputs": [
    {
     "name": "stderr",
     "output_type": "stream",
     "text": [
      "C:\\Users\\Joy\\Anaconda_Files\\Anaconda3\\lib\\site-packages\\ipykernel\\__main__.py:9: FutureWarning: Sorting because non-concatenation axis is not aligned. A future version\n",
      "of pandas will change to not sort by default.\n",
      "\n",
      "To accept the future behavior, pass 'sort=False'.\n",
      "\n",
      "To retain the current behavior and silence the warning, pass 'sort=True'.\n",
      "\n"
     ]
    },
    {
     "data": {
      "text/html": [
       "<div>\n",
       "<style scoped>\n",
       "    .dataframe tbody tr th:only-of-type {\n",
       "        vertical-align: middle;\n",
       "    }\n",
       "\n",
       "    .dataframe tbody tr th {\n",
       "        vertical-align: top;\n",
       "    }\n",
       "\n",
       "    .dataframe thead th {\n",
       "        text-align: right;\n",
       "    }\n",
       "</style>\n",
       "<table border=\"1\" class=\"dataframe\">\n",
       "  <thead>\n",
       "    <tr style=\"text-align: right;\">\n",
       "      <th></th>\n",
       "      <th>Business_id</th>\n",
       "      <th>cool</th>\n",
       "      <th>date</th>\n",
       "      <th>funny</th>\n",
       "      <th>review_id</th>\n",
       "      <th>Review_ratings</th>\n",
       "      <th>Review_text</th>\n",
       "      <th>useful</th>\n",
       "      <th>User_id</th>\n",
       "    </tr>\n",
       "  </thead>\n",
       "  <tbody>\n",
       "    <tr>\n",
       "      <th>0</th>\n",
       "      <td>UdEmYOnk2iJDY9lpEPAlJQ</td>\n",
       "      <td>2.0</td>\n",
       "      <td>2014-12-30</td>\n",
       "      <td>0.0</td>\n",
       "      <td>OwX02bSKJ0dZVUhlHcpNiw</td>\n",
       "      <td>4.0</td>\n",
       "      <td>Solid, cheap, delicious Italian.  Good calzone...</td>\n",
       "      <td>2.0</td>\n",
       "      <td>mvq6mTZBd3mdDg_bZRWiuQ</td>\n",
       "    </tr>\n",
       "    <tr>\n",
       "      <th>1</th>\n",
       "      <td>UdEmYOnk2iJDY9lpEPAlJQ</td>\n",
       "      <td>2.0</td>\n",
       "      <td>2014-11-02</td>\n",
       "      <td>0.0</td>\n",
       "      <td>Ws-n-35XsXE-Cvgd8Biiig</td>\n",
       "      <td>5.0</td>\n",
       "      <td>We come here a lot. My kids love their pizza a...</td>\n",
       "      <td>2.0</td>\n",
       "      <td>eNf0HUg_VNjKe9enwimRsg</td>\n",
       "    </tr>\n",
       "    <tr>\n",
       "      <th>2</th>\n",
       "      <td>UdEmYOnk2iJDY9lpEPAlJQ</td>\n",
       "      <td>1.0</td>\n",
       "      <td>2015-08-29</td>\n",
       "      <td>0.0</td>\n",
       "      <td>g2cHc3gWnf0dEaWuu3RM1w</td>\n",
       "      <td>5.0</td>\n",
       "      <td>I've been coming here since I was 14 years old...</td>\n",
       "      <td>0.0</td>\n",
       "      <td>314dp8E50a7mjjSeZhKB-w</td>\n",
       "    </tr>\n",
       "  </tbody>\n",
       "</table>\n",
       "</div>"
      ],
      "text/plain": [
       "              Business_id  cool        date  funny               review_id  \\\n",
       "0  UdEmYOnk2iJDY9lpEPAlJQ   2.0  2014-12-30    0.0  OwX02bSKJ0dZVUhlHcpNiw   \n",
       "1  UdEmYOnk2iJDY9lpEPAlJQ   2.0  2014-11-02    0.0  Ws-n-35XsXE-Cvgd8Biiig   \n",
       "2  UdEmYOnk2iJDY9lpEPAlJQ   1.0  2015-08-29    0.0  g2cHc3gWnf0dEaWuu3RM1w   \n",
       "\n",
       "   Review_ratings                                        Review_text  useful  \\\n",
       "0             4.0  Solid, cheap, delicious Italian.  Good calzone...     2.0   \n",
       "1             5.0  We come here a lot. My kids love their pizza a...     2.0   \n",
       "2             5.0  I've been coming here since I was 14 years old...     0.0   \n",
       "\n",
       "                  User_id  \n",
       "0  mvq6mTZBd3mdDg_bZRWiuQ  \n",
       "1  eNf0HUg_VNjKe9enwimRsg  \n",
       "2  314dp8E50a7mjjSeZhKB-w  "
      ]
     },
     "execution_count": 6,
     "metadata": {},
     "output_type": "execute_result"
    }
   ],
   "source": [
    "AZ_restrnt_review_flatten = pd.DataFrame()\n",
    "AZ_restrnt_review_flatten = review_flatten(AZ_restrnt_flatten_df)\n",
    "\n",
    "AZ_restrnt_review_flatten.rename(columns={'stars':'Review_ratings', 'user_id' : 'User_id','text':'Review_text'}, inplace=True)\n",
    "AZ_restrnt_review_flatten.head(3)"
   ]
  },
  {
   "cell_type": "code",
   "execution_count": 7,
   "metadata": {},
   "outputs": [
    {
     "data": {
      "text/plain": [
       "(518467, 9)"
      ]
     },
     "execution_count": 7,
     "metadata": {},
     "output_type": "execute_result"
    }
   ],
   "source": [
    "AZ_restrnt_review_flatten.shape"
   ]
  },
  {
   "cell_type": "markdown",
   "metadata": {},
   "source": [
    "**Merge the Business and user review dataframes and remove the unwanted columns(like cool, date, funny, useful, review_id)**"
   ]
  },
  {
   "cell_type": "code",
   "execution_count": 8,
   "metadata": {},
   "outputs": [
    {
     "data": {
      "text/html": [
       "<div>\n",
       "<style scoped>\n",
       "    .dataframe tbody tr th:only-of-type {\n",
       "        vertical-align: middle;\n",
       "    }\n",
       "\n",
       "    .dataframe tbody tr th {\n",
       "        vertical-align: top;\n",
       "    }\n",
       "\n",
       "    .dataframe thead th {\n",
       "        text-align: right;\n",
       "    }\n",
       "</style>\n",
       "<table border=\"1\" class=\"dataframe\">\n",
       "  <thead>\n",
       "    <tr style=\"text-align: right;\">\n",
       "      <th></th>\n",
       "      <th>User_id</th>\n",
       "      <th>Business_id</th>\n",
       "      <th>Name</th>\n",
       "      <th>Address</th>\n",
       "      <th>City</th>\n",
       "      <th>State</th>\n",
       "      <th>Postal_code</th>\n",
       "      <th>Review_count</th>\n",
       "      <th>Restaurant_ratings</th>\n",
       "      <th>RestaurantsPriceRange2</th>\n",
       "      <th>Review_ratings</th>\n",
       "      <th>Review_text</th>\n",
       "    </tr>\n",
       "  </thead>\n",
       "  <tbody>\n",
       "    <tr>\n",
       "      <th>0</th>\n",
       "      <td>Ck73f1qtZbu68F_vjzsBrQ</td>\n",
       "      <td>rDMptJYWtnMhpQu_rRXHng</td>\n",
       "      <td>McDonald's</td>\n",
       "      <td>719 E Thunderbird Rd</td>\n",
       "      <td>Phoenix</td>\n",
       "      <td>AZ</td>\n",
       "      <td>85022</td>\n",
       "      <td>10</td>\n",
       "      <td>1.0</td>\n",
       "      <td>1.0</td>\n",
       "      <td>1.0</td>\n",
       "      <td>The speed of delivery of my food order was ter...</td>\n",
       "    </tr>\n",
       "    <tr>\n",
       "      <th>1</th>\n",
       "      <td>F95NFEFwuwA__SIRt9IJNA</td>\n",
       "      <td>rDMptJYWtnMhpQu_rRXHng</td>\n",
       "      <td>McDonald's</td>\n",
       "      <td>719 E Thunderbird Rd</td>\n",
       "      <td>Phoenix</td>\n",
       "      <td>AZ</td>\n",
       "      <td>85022</td>\n",
       "      <td>10</td>\n",
       "      <td>1.0</td>\n",
       "      <td>1.0</td>\n",
       "      <td>1.0</td>\n",
       "      <td>I stopped by for a double quarter pounder with...</td>\n",
       "    </tr>\n",
       "  </tbody>\n",
       "</table>\n",
       "</div>"
      ],
      "text/plain": [
       "                  User_id             Business_id        Name  \\\n",
       "0  Ck73f1qtZbu68F_vjzsBrQ  rDMptJYWtnMhpQu_rRXHng  McDonald's   \n",
       "1  F95NFEFwuwA__SIRt9IJNA  rDMptJYWtnMhpQu_rRXHng  McDonald's   \n",
       "\n",
       "                Address     City State Postal_code  Review_count  \\\n",
       "0  719 E Thunderbird Rd  Phoenix    AZ       85022            10   \n",
       "1  719 E Thunderbird Rd  Phoenix    AZ       85022            10   \n",
       "\n",
       "   Restaurant_ratings  RestaurantsPriceRange2  Review_ratings  \\\n",
       "0                 1.0                     1.0             1.0   \n",
       "1                 1.0                     1.0             1.0   \n",
       "\n",
       "                                         Review_text  \n",
       "0  The speed of delivery of my food order was ter...  \n",
       "1  I stopped by for a double quarter pounder with...  "
      ]
     },
     "execution_count": 8,
     "metadata": {},
     "output_type": "execute_result"
    }
   ],
   "source": [
    "AZ_restrnt_user_flatten_df = pd.merge(AZ_restrnt_flatten_df,AZ_restrnt_review_flatten,on = 'Business_id')\n",
    "AZ_restrnt_user_flatten_df.head(2)\n",
    "\n",
    "\n",
    "column_list = [\"User_id\",\"Business_id\", \"Name\", \"Address\", \"City\", \"State\", \"Postal_code\", \"Review_count\",\n",
    "               \"Restaurant_ratings\",\"RestaurantsPriceRange2\",\"Review_ratings\",\"Review_text\"]\n",
    "AZ_restrnt_user_flatten_df = AZ_restrnt_user_flatten_df[column_list]\n",
    "AZ_restrnt_user_flatten_df.head(2)"
   ]
  },
  {
   "cell_type": "code",
   "execution_count": 9,
   "metadata": {},
   "outputs": [
    {
     "data": {
      "text/plain": [
       "2.0    331149\n",
       "1.0    160388\n",
       "3.0     20841\n",
       "0.0      3400\n",
       "4.0      2689\n",
       "Name: RestaurantsPriceRange2, dtype: int64"
      ]
     },
     "execution_count": 9,
     "metadata": {},
     "output_type": "execute_result"
    }
   ],
   "source": [
    "AZ_restrnt_user_flatten_df.RestaurantsPriceRange2.value_counts()"
   ]
  },
  {
   "cell_type": "code",
   "execution_count": 10,
   "metadata": {
    "scrolled": true
   },
   "outputs": [
    {
     "data": {
      "text/plain": [
       "Phoenix       232597\n",
       "Scottsdale    121869\n",
       "Tempe          63114\n",
       "Mesa           52812\n",
       "Chandler       48075\n",
       "Name: City, dtype: int64"
      ]
     },
     "execution_count": 10,
     "metadata": {},
     "output_type": "execute_result"
    }
   ],
   "source": [
    "AZ_restrnt_user_flatten_df.City.value_counts()"
   ]
  },
  {
   "cell_type": "code",
   "execution_count": 11,
   "metadata": {},
   "outputs": [],
   "source": [
    "AZ_restrnt_user_flatten_df = AZ_restrnt_user_flatten_df[AZ_restrnt_user_flatten_df['RestaurantsPriceRange2'] != 0.0]"
   ]
  },
  {
   "cell_type": "code",
   "execution_count": 12,
   "metadata": {},
   "outputs": [],
   "source": [
    "AZ_restrnt_user_flatten_price1_df = AZ_restrnt_user_flatten_df[AZ_restrnt_user_flatten_df['RestaurantsPriceRange2'] == 1.0]\n",
    "AZ_restrnt_user_flatten_price2_df = AZ_restrnt_user_flatten_df[AZ_restrnt_user_flatten_df['RestaurantsPriceRange2'] == 2.0]\n",
    "AZ_restrnt_user_flatten_price3_df = AZ_restrnt_user_flatten_df[AZ_restrnt_user_flatten_df['RestaurantsPriceRange2'] == 3.0]\n",
    "AZ_restrnt_user_flatten_price4_df = AZ_restrnt_user_flatten_df[AZ_restrnt_user_flatten_df['RestaurantsPriceRange2'] == 4.0]"
   ]
  },
  {
   "cell_type": "markdown",
   "metadata": {},
   "source": [
    "## Create new dataframes by Price range for low and high rated reviews."
   ]
  },
  {
   "cell_type": "code",
   "execution_count": 13,
   "metadata": {},
   "outputs": [
    {
     "data": {
      "text/plain": [
       "(10491, 12)"
      ]
     },
     "execution_count": 13,
     "metadata": {},
     "output_type": "execute_result"
    }
   ],
   "source": [
    "Price1_lowrated_review_final = AZ_restrnt_user_flatten_price1_df[(AZ_restrnt_user_flatten_price1_df\n",
    "                                ['Restaurant_ratings'] < 3) & (AZ_restrnt_user_flatten_price1_df['Review_ratings'] < 3)]\n",
    "Price1_lowrated_review_final.shape"
   ]
  },
  {
   "cell_type": "code",
   "execution_count": 14,
   "metadata": {
    "scrolled": true
   },
   "outputs": [
    {
     "data": {
      "text/plain": [
       "(79725, 12)"
      ]
     },
     "execution_count": 14,
     "metadata": {},
     "output_type": "execute_result"
    }
   ],
   "source": [
    "Price1_highrated_review_final = AZ_restrnt_user_flatten_price1_df[(AZ_restrnt_user_flatten_price1_df\n",
    "                                ['Restaurant_ratings'] > 3.5) & (AZ_restrnt_user_flatten_price1_df['Review_ratings'] > 3.5)]\n",
    "Price1_highrated_review_final.shape"
   ]
  },
  {
   "cell_type": "code",
   "execution_count": 15,
   "metadata": {},
   "outputs": [
    {
     "data": {
      "text/plain": [
       "(6184, 12)"
      ]
     },
     "execution_count": 15,
     "metadata": {},
     "output_type": "execute_result"
    }
   ],
   "source": [
    "Price2_lowrated_review_final = AZ_restrnt_user_flatten_price2_df[(AZ_restrnt_user_flatten_price2_df\n",
    "                                ['Restaurant_ratings'] < 3) & (AZ_restrnt_user_flatten_price2_df['Review_ratings'] < 3)]\n",
    "Price2_lowrated_review_final.shape"
   ]
  },
  {
   "cell_type": "code",
   "execution_count": 16,
   "metadata": {},
   "outputs": [
    {
     "data": {
      "text/plain": [
       "(165010, 12)"
      ]
     },
     "execution_count": 16,
     "metadata": {},
     "output_type": "execute_result"
    }
   ],
   "source": [
    "Price2_highrated_review_final = AZ_restrnt_user_flatten_price2_df[(AZ_restrnt_user_flatten_price2_df\n",
    "                                ['Restaurant_ratings'] > 3.5) & (AZ_restrnt_user_flatten_price2_df['Review_ratings'] > 3.5)]\n",
    "Price2_highrated_review_final.shape"
   ]
  },
  {
   "cell_type": "code",
   "execution_count": 17,
   "metadata": {},
   "outputs": [
    {
     "data": {
      "text/plain": [
       "(67, 12)"
      ]
     },
     "execution_count": 17,
     "metadata": {},
     "output_type": "execute_result"
    }
   ],
   "source": [
    "Price3_lowrated_review_final = AZ_restrnt_user_flatten_price3_df[(AZ_restrnt_user_flatten_price3_df\n",
    "                                ['Restaurant_ratings'] < 3) & (AZ_restrnt_user_flatten_price3_df['Review_ratings'] < 3)]\n",
    "Price3_lowrated_review_final.shape"
   ]
  },
  {
   "cell_type": "code",
   "execution_count": 18,
   "metadata": {},
   "outputs": [
    {
     "data": {
      "text/plain": [
       "(13169, 12)"
      ]
     },
     "execution_count": 18,
     "metadata": {},
     "output_type": "execute_result"
    }
   ],
   "source": [
    "Price3_highrated_review_final = AZ_restrnt_user_flatten_price3_df[(AZ_restrnt_user_flatten_price3_df\n",
    "                                ['Restaurant_ratings'] > 3.5) & (AZ_restrnt_user_flatten_price3_df['Review_ratings'] > 3.5)]\n",
    "Price3_highrated_review_final.shape"
   ]
  },
  {
   "cell_type": "code",
   "execution_count": 19,
   "metadata": {},
   "outputs": [
    {
     "data": {
      "text/plain": [
       "(25, 12)"
      ]
     },
     "execution_count": 19,
     "metadata": {},
     "output_type": "execute_result"
    }
   ],
   "source": [
    "Price4_lowrated_review_final = AZ_restrnt_user_flatten_price4_df[(AZ_restrnt_user_flatten_price4_df\n",
    "                                ['Restaurant_ratings'] < 3) & (AZ_restrnt_user_flatten_price4_df['Review_ratings'] < 3)]\n",
    "Price4_lowrated_review_final.shape"
   ]
  },
  {
   "cell_type": "code",
   "execution_count": 20,
   "metadata": {},
   "outputs": [
    {
     "data": {
      "text/plain": [
       "(1650, 12)"
      ]
     },
     "execution_count": 20,
     "metadata": {},
     "output_type": "execute_result"
    }
   ],
   "source": [
    "Price4_highrated_review_final = AZ_restrnt_user_flatten_price4_df[(AZ_restrnt_user_flatten_price4_df\n",
    "                                ['Restaurant_ratings'] > 3.5) & (AZ_restrnt_user_flatten_price4_df['Review_ratings'] > 3.5)]\n",
    "Price4_highrated_review_final.shape"
   ]
  },
  {
   "cell_type": "code",
   "execution_count": 21,
   "metadata": {},
   "outputs": [],
   "source": [
    "#Concat the 8 dataframes into a single dataframe\n",
    "AZ_restaurant_low_high_review_final = pd.concat([Price1_lowrated_review_final,Price1_highrated_review_final,\n",
    "                                                 Price2_lowrated_review_final,Price2_highrated_review_final,\n",
    "                                                 Price3_lowrated_review_final,Price3_highrated_review_final,\n",
    "                                                 Price4_lowrated_review_final,Price4_highrated_review_final,])"
   ]
  },
  {
   "cell_type": "code",
   "execution_count": 22,
   "metadata": {},
   "outputs": [
    {
     "name": "stdout",
     "output_type": "stream",
     "text": [
      "(276321, 12)\n"
     ]
    },
    {
     "data": {
      "text/html": [
       "<div>\n",
       "<style scoped>\n",
       "    .dataframe tbody tr th:only-of-type {\n",
       "        vertical-align: middle;\n",
       "    }\n",
       "\n",
       "    .dataframe tbody tr th {\n",
       "        vertical-align: top;\n",
       "    }\n",
       "\n",
       "    .dataframe thead th {\n",
       "        text-align: right;\n",
       "    }\n",
       "</style>\n",
       "<table border=\"1\" class=\"dataframe\">\n",
       "  <thead>\n",
       "    <tr style=\"text-align: right;\">\n",
       "      <th></th>\n",
       "      <th>User_id</th>\n",
       "      <th>Business_id</th>\n",
       "      <th>Name</th>\n",
       "      <th>Address</th>\n",
       "      <th>City</th>\n",
       "      <th>State</th>\n",
       "      <th>Postal_code</th>\n",
       "      <th>Review_count</th>\n",
       "      <th>Restaurant_ratings</th>\n",
       "      <th>RestaurantsPriceRange2</th>\n",
       "      <th>Review_ratings</th>\n",
       "      <th>Review_text</th>\n",
       "    </tr>\n",
       "  </thead>\n",
       "  <tbody>\n",
       "    <tr>\n",
       "      <th>0</th>\n",
       "      <td>Ck73f1qtZbu68F_vjzsBrQ</td>\n",
       "      <td>rDMptJYWtnMhpQu_rRXHng</td>\n",
       "      <td>McDonald's</td>\n",
       "      <td>719 E Thunderbird Rd</td>\n",
       "      <td>Phoenix</td>\n",
       "      <td>AZ</td>\n",
       "      <td>85022</td>\n",
       "      <td>10</td>\n",
       "      <td>1.0</td>\n",
       "      <td>1.0</td>\n",
       "      <td>1.0</td>\n",
       "      <td>The speed of delivery of my food order was ter...</td>\n",
       "    </tr>\n",
       "    <tr>\n",
       "      <th>1</th>\n",
       "      <td>F95NFEFwuwA__SIRt9IJNA</td>\n",
       "      <td>rDMptJYWtnMhpQu_rRXHng</td>\n",
       "      <td>McDonald's</td>\n",
       "      <td>719 E Thunderbird Rd</td>\n",
       "      <td>Phoenix</td>\n",
       "      <td>AZ</td>\n",
       "      <td>85022</td>\n",
       "      <td>10</td>\n",
       "      <td>1.0</td>\n",
       "      <td>1.0</td>\n",
       "      <td>1.0</td>\n",
       "      <td>I stopped by for a double quarter pounder with...</td>\n",
       "    </tr>\n",
       "    <tr>\n",
       "      <th>2</th>\n",
       "      <td>2gWCW1oEuyhaxrlTTghvtQ</td>\n",
       "      <td>rDMptJYWtnMhpQu_rRXHng</td>\n",
       "      <td>McDonald's</td>\n",
       "      <td>719 E Thunderbird Rd</td>\n",
       "      <td>Phoenix</td>\n",
       "      <td>AZ</td>\n",
       "      <td>85022</td>\n",
       "      <td>10</td>\n",
       "      <td>1.0</td>\n",
       "      <td>1.0</td>\n",
       "      <td>1.0</td>\n",
       "      <td>I was told tonight at 8:30 pm that they were n...</td>\n",
       "    </tr>\n",
       "  </tbody>\n",
       "</table>\n",
       "</div>"
      ],
      "text/plain": [
       "                  User_id             Business_id        Name  \\\n",
       "0  Ck73f1qtZbu68F_vjzsBrQ  rDMptJYWtnMhpQu_rRXHng  McDonald's   \n",
       "1  F95NFEFwuwA__SIRt9IJNA  rDMptJYWtnMhpQu_rRXHng  McDonald's   \n",
       "2  2gWCW1oEuyhaxrlTTghvtQ  rDMptJYWtnMhpQu_rRXHng  McDonald's   \n",
       "\n",
       "                Address     City State Postal_code  Review_count  \\\n",
       "0  719 E Thunderbird Rd  Phoenix    AZ       85022            10   \n",
       "1  719 E Thunderbird Rd  Phoenix    AZ       85022            10   \n",
       "2  719 E Thunderbird Rd  Phoenix    AZ       85022            10   \n",
       "\n",
       "   Restaurant_ratings  RestaurantsPriceRange2  Review_ratings  \\\n",
       "0                 1.0                     1.0             1.0   \n",
       "1                 1.0                     1.0             1.0   \n",
       "2                 1.0                     1.0             1.0   \n",
       "\n",
       "                                         Review_text  \n",
       "0  The speed of delivery of my food order was ter...  \n",
       "1  I stopped by for a double quarter pounder with...  \n",
       "2  I was told tonight at 8:30 pm that they were n...  "
      ]
     },
     "execution_count": 22,
     "metadata": {},
     "output_type": "execute_result"
    }
   ],
   "source": [
    "print(AZ_restaurant_low_high_review_final.shape)\n",
    "AZ_restaurant_low_high_review_final.head(3)"
   ]
  },
  {
   "cell_type": "markdown",
   "metadata": {},
   "source": [
    "**Export the dataframe to be persisted for further processing**"
   ]
  },
  {
   "cell_type": "code",
   "execution_count": 23,
   "metadata": {},
   "outputs": [],
   "source": [
    "AZ_restaurant_low_high_review_final.to_csv(\"AZ_restaurant_low_high_review_final.csv\", index=False, sep='\\t', encoding='utf-8')"
   ]
  },
  {
   "cell_type": "code",
   "execution_count": 13,
   "metadata": {},
   "outputs": [
    {
     "data": {
      "text/plain": [
       "(276327, 12)"
      ]
     },
     "execution_count": 13,
     "metadata": {},
     "output_type": "execute_result"
    }
   ],
   "source": [
    "import pandas as pd\n",
    "AZ_restaurant_low_high_review_final1 = pd.read_csv(\"AZ_restaurant_low_high_review_final.csv\",sep='\\t')\n",
    "AZ_restaurant_low_high_review_final1.shape"
   ]
  },
  {
   "cell_type": "code",
   "execution_count": 14,
   "metadata": {},
   "outputs": [
    {
     "data": {
      "text/plain": [
       "2.0    171194\n",
       "1.0     90216\n",
       "3.0     13236\n",
       "4.0      1675\n",
       "Name: RestaurantsPriceRange2, dtype: int64"
      ]
     },
     "execution_count": 14,
     "metadata": {},
     "output_type": "execute_result"
    }
   ],
   "source": [
    "AZ_restaurant_low_high_review_final1.RestaurantsPriceRange2.value_counts()"
   ]
  }
 ],
 "metadata": {
  "kernelspec": {
   "display_name": "Python [default]",
   "language": "python",
   "name": "python3"
  },
  "language_info": {
   "codemirror_mode": {
    "name": "ipython",
    "version": 3
   },
   "file_extension": ".py",
   "mimetype": "text/x-python",
   "name": "python",
   "nbconvert_exporter": "python",
   "pygments_lexer": "ipython3",
   "version": "3.6.5"
  }
 },
 "nbformat": 4,
 "nbformat_minor": 2
}
