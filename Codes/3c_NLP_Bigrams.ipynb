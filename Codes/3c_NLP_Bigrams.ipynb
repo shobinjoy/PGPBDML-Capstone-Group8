{
 "cells": [
  {
   "cell_type": "markdown",
   "metadata": {},
   "source": [
    "# Objective : To get the top 5 bigrams for low rated business in negative reviews based on polarity score\n",
    "\n",
    "The objective of this document is to get the top 5 most negative bigrams for individual business.\n",
    "We are going through following steps:\n",
    "\n",
    "1. Read the data from the file\n",
    "2. Filter the data to get the low rated reviews only\n",
    "3. Identify the non-English reviews and remove the corresponding reviews as we can work only with English reviews\n",
    "4. Create a dataframe for business by taking only business information from above dataframe\n",
    "5. Create a new column in the business dataframe to keep 5 sample reviews for UI display\n",
    "6. join all the reviews of individual business\n",
    "7. Next we have cleared any special characters and number from the review text\n",
    "8. changed the casing of the text to lower case to ensure that we get same format for lemmatized text\n",
    "9. We have used English stopwords from nltk.corpus library to remove the stopwords from review text\n",
    "10. We have taken the cleaned text from above and created the bigrams\n",
    "\n",
    "To create Bigrams and take top 5 we have performed following on the joined text of each business, \n",
    "\n",
    "1. We have taken cleaned data for each business and created list of bigrams by using consecutive 2 words.\n",
    "2. Calculated the polarity of each bigram by using the TEXTBLOB library\n",
    "3. Sorted the bigrams in descending order of polarity\n",
    "4. taken the top 5 Bigrams based on polarity score\n",
    "5. saved the data in csv file for presentation on UI\n",
    "\n",
    "***Note that we are not lemmatizing the token here as the bigrams will make more sense in original format\n"
   ]
  },
  {
   "cell_type": "markdown",
   "metadata": {},
   "source": [
    "### Importing libraries"
   ]
  },
  {
   "cell_type": "code",
   "execution_count": 1,
   "metadata": {
    "collapsed": true
   },
   "outputs": [],
   "source": [
    "import pandas as pd\n",
    "import numpy as np\n",
    "\n",
    "#To detect the languages\n",
    "from langdetect import detect\n",
    "\n",
    "#for distributed task, to make the processing faster\n",
    "import dask.dataframe as dd\n",
    "from dask.multiprocessing import get\n",
    "\n",
    "#importing regular expressions to handle the text data\n",
    "import re\n",
    "from nltk.corpus import stopwords\n",
    "\n",
    "from collections import Counter\n",
    "from textblob import TextBlob"
   ]
  },
  {
   "cell_type": "markdown",
   "metadata": {},
   "source": [
    "### Reading data from csv files"
   ]
  },
  {
   "cell_type": "code",
   "execution_count": 2,
   "metadata": {
    "collapsed": true
   },
   "outputs": [],
   "source": [
    "reviews_data = pd.read_csv(\"data/AZ_restaurant_low_high_review_final.csv\", sep=\"\\t\")"
   ]
  },
  {
   "cell_type": "code",
   "execution_count": 3,
   "metadata": {},
   "outputs": [
    {
     "data": {
      "text/plain": [
       "2.0    171194\n",
       "1.0     90216\n",
       "3.0     13236\n",
       "4.0      1675\n",
       "Name: RestaurantsPriceRange2, dtype: int64"
      ]
     },
     "execution_count": 3,
     "metadata": {},
     "output_type": "execute_result"
    }
   ],
   "source": [
    "#Checking the data distribution for different price ranges\n",
    "\n",
    "reviews_data.RestaurantsPriceRange2.value_counts()"
   ]
  },
  {
   "cell_type": "code",
   "execution_count": 4,
   "metadata": {},
   "outputs": [
    {
     "data": {
      "text/html": [
       "<div>\n",
       "<style scoped>\n",
       "    .dataframe tbody tr th:only-of-type {\n",
       "        vertical-align: middle;\n",
       "    }\n",
       "\n",
       "    .dataframe tbody tr th {\n",
       "        vertical-align: top;\n",
       "    }\n",
       "\n",
       "    .dataframe thead th {\n",
       "        text-align: right;\n",
       "    }\n",
       "</style>\n",
       "<table border=\"1\" class=\"dataframe\">\n",
       "  <thead>\n",
       "    <tr style=\"text-align: right;\">\n",
       "      <th></th>\n",
       "      <th>User_id</th>\n",
       "      <th>Business_id</th>\n",
       "      <th>Name</th>\n",
       "      <th>Address</th>\n",
       "      <th>City</th>\n",
       "      <th>State</th>\n",
       "      <th>Postal_code</th>\n",
       "      <th>Review_count</th>\n",
       "      <th>Restaurant_ratings</th>\n",
       "      <th>RestaurantsPriceRange2</th>\n",
       "      <th>Review_ratings</th>\n",
       "      <th>Review_text</th>\n",
       "    </tr>\n",
       "  </thead>\n",
       "  <tbody>\n",
       "    <tr>\n",
       "      <th>0</th>\n",
       "      <td>Ck73f1qtZbu68F_vjzsBrQ</td>\n",
       "      <td>rDMptJYWtnMhpQu_rRXHng</td>\n",
       "      <td>McDonald's</td>\n",
       "      <td>719 E Thunderbird Rd</td>\n",
       "      <td>Phoenix</td>\n",
       "      <td>AZ</td>\n",
       "      <td>85022.0</td>\n",
       "      <td>10.0</td>\n",
       "      <td>1.0</td>\n",
       "      <td>1.0</td>\n",
       "      <td>1.0</td>\n",
       "      <td>The speed of delivery of my food order was ter...</td>\n",
       "    </tr>\n",
       "    <tr>\n",
       "      <th>1</th>\n",
       "      <td>F95NFEFwuwA__SIRt9IJNA</td>\n",
       "      <td>rDMptJYWtnMhpQu_rRXHng</td>\n",
       "      <td>McDonald's</td>\n",
       "      <td>719 E Thunderbird Rd</td>\n",
       "      <td>Phoenix</td>\n",
       "      <td>AZ</td>\n",
       "      <td>85022.0</td>\n",
       "      <td>10.0</td>\n",
       "      <td>1.0</td>\n",
       "      <td>1.0</td>\n",
       "      <td>1.0</td>\n",
       "      <td>I stopped by for a double quarter pounder with...</td>\n",
       "    </tr>\n",
       "    <tr>\n",
       "      <th>2</th>\n",
       "      <td>2gWCW1oEuyhaxrlTTghvtQ</td>\n",
       "      <td>rDMptJYWtnMhpQu_rRXHng</td>\n",
       "      <td>McDonald's</td>\n",
       "      <td>719 E Thunderbird Rd</td>\n",
       "      <td>Phoenix</td>\n",
       "      <td>AZ</td>\n",
       "      <td>85022.0</td>\n",
       "      <td>10.0</td>\n",
       "      <td>1.0</td>\n",
       "      <td>1.0</td>\n",
       "      <td>1.0</td>\n",
       "      <td>I was told tonight at 8:30 pm that they were n...</td>\n",
       "    </tr>\n",
       "    <tr>\n",
       "      <th>3</th>\n",
       "      <td>yKyfDC9EPHvSuBXPCP-EmQ</td>\n",
       "      <td>rDMptJYWtnMhpQu_rRXHng</td>\n",
       "      <td>McDonald's</td>\n",
       "      <td>719 E Thunderbird Rd</td>\n",
       "      <td>Phoenix</td>\n",
       "      <td>AZ</td>\n",
       "      <td>85022.0</td>\n",
       "      <td>10.0</td>\n",
       "      <td>1.0</td>\n",
       "      <td>1.0</td>\n",
       "      <td>1.0</td>\n",
       "      <td>Cashier was disgusting and unsanitary. Picking...</td>\n",
       "    </tr>\n",
       "    <tr>\n",
       "      <th>4</th>\n",
       "      <td>wxu6RAQqre73_id5lALttA</td>\n",
       "      <td>rDMptJYWtnMhpQu_rRXHng</td>\n",
       "      <td>McDonald's</td>\n",
       "      <td>719 E Thunderbird Rd</td>\n",
       "      <td>Phoenix</td>\n",
       "      <td>AZ</td>\n",
       "      <td>85022.0</td>\n",
       "      <td>10.0</td>\n",
       "      <td>1.0</td>\n",
       "      <td>1.0</td>\n",
       "      <td>1.0</td>\n",
       "      <td>Don't waste your money!  Terrible service. The...</td>\n",
       "    </tr>\n",
       "  </tbody>\n",
       "</table>\n",
       "</div>"
      ],
      "text/plain": [
       "                  User_id             Business_id        Name  \\\n",
       "0  Ck73f1qtZbu68F_vjzsBrQ  rDMptJYWtnMhpQu_rRXHng  McDonald's   \n",
       "1  F95NFEFwuwA__SIRt9IJNA  rDMptJYWtnMhpQu_rRXHng  McDonald's   \n",
       "2  2gWCW1oEuyhaxrlTTghvtQ  rDMptJYWtnMhpQu_rRXHng  McDonald's   \n",
       "3  yKyfDC9EPHvSuBXPCP-EmQ  rDMptJYWtnMhpQu_rRXHng  McDonald's   \n",
       "4  wxu6RAQqre73_id5lALttA  rDMptJYWtnMhpQu_rRXHng  McDonald's   \n",
       "\n",
       "                Address     City State  Postal_code  Review_count  \\\n",
       "0  719 E Thunderbird Rd  Phoenix    AZ      85022.0          10.0   \n",
       "1  719 E Thunderbird Rd  Phoenix    AZ      85022.0          10.0   \n",
       "2  719 E Thunderbird Rd  Phoenix    AZ      85022.0          10.0   \n",
       "3  719 E Thunderbird Rd  Phoenix    AZ      85022.0          10.0   \n",
       "4  719 E Thunderbird Rd  Phoenix    AZ      85022.0          10.0   \n",
       "\n",
       "   Restaurant_ratings  RestaurantsPriceRange2  Review_ratings  \\\n",
       "0                 1.0                     1.0             1.0   \n",
       "1                 1.0                     1.0             1.0   \n",
       "2                 1.0                     1.0             1.0   \n",
       "3                 1.0                     1.0             1.0   \n",
       "4                 1.0                     1.0             1.0   \n",
       "\n",
       "                                         Review_text  \n",
       "0  The speed of delivery of my food order was ter...  \n",
       "1  I stopped by for a double quarter pounder with...  \n",
       "2  I was told tonight at 8:30 pm that they were n...  \n",
       "3  Cashier was disgusting and unsanitary. Picking...  \n",
       "4  Don't waste your money!  Terrible service. The...  "
      ]
     },
     "execution_count": 4,
     "metadata": {},
     "output_type": "execute_result"
    }
   ],
   "source": [
    "reviews_data.head(5)"
   ]
  },
  {
   "cell_type": "code",
   "execution_count": 5,
   "metadata": {
    "scrolled": true
   },
   "outputs": [
    {
     "data": {
      "text/plain": [
       "(276327, 12)"
      ]
     },
     "execution_count": 5,
     "metadata": {},
     "output_type": "execute_result"
    }
   ],
   "source": [
    "reviews_data.shape"
   ]
  },
  {
   "cell_type": "code",
   "execution_count": 6,
   "metadata": {},
   "outputs": [
    {
     "data": {
      "text/plain": [
       "5.0    181549\n",
       "4.0     78005\n",
       "1.0     12601\n",
       "2.0      4166\n",
       "Name: Review_ratings, dtype: int64"
      ]
     },
     "execution_count": 6,
     "metadata": {},
     "output_type": "execute_result"
    }
   ],
   "source": [
    "#Checking for data in different review ratings\n",
    "\n",
    "reviews_data.Review_ratings.value_counts()"
   ]
  },
  {
   "cell_type": "code",
   "execution_count": 7,
   "metadata": {},
   "outputs": [
    {
     "data": {
      "text/plain": [
       "Index(['User_id', 'Business_id', 'Name', 'Address', 'City', 'State',\n",
       "       'Postal_code', 'Review_count', 'Restaurant_ratings',\n",
       "       'RestaurantsPriceRange2', 'Review_ratings', 'Review_text'],\n",
       "      dtype='object')"
      ]
     },
     "execution_count": 7,
     "metadata": {},
     "output_type": "execute_result"
    }
   ],
   "source": [
    "reviews_data.columns"
   ]
  },
  {
   "cell_type": "markdown",
   "metadata": {},
   "source": [
    "### Taking only low rated reviews data"
   ]
  },
  {
   "cell_type": "code",
   "execution_count": 8,
   "metadata": {
    "collapsed": true
   },
   "outputs": [],
   "source": [
    "low_rated_reviews =  reviews_data[reviews_data['Review_ratings'] < 3]"
   ]
  },
  {
   "cell_type": "code",
   "execution_count": 9,
   "metadata": {},
   "outputs": [
    {
     "data": {
      "text/plain": [
       "(16767, 12)"
      ]
     },
     "execution_count": 9,
     "metadata": {},
     "output_type": "execute_result"
    }
   ],
   "source": [
    "low_rated_reviews.shape"
   ]
  },
  {
   "cell_type": "markdown",
   "metadata": {},
   "source": [
    "    There are about 16767 low rated reviews"
   ]
  },
  {
   "cell_type": "code",
   "execution_count": 10,
   "metadata": {
    "collapsed": true
   },
   "outputs": [],
   "source": [
    "columnnames = ['Business_id', 'Name', 'Address', 'City', 'State','Postal_code', 'Review_count', 'Restaurant_ratings','RestaurantsPriceRange2']\n"
   ]
  },
  {
   "cell_type": "markdown",
   "metadata": {},
   "source": [
    "### Taking out the business information in a new dataframe"
   ]
  },
  {
   "cell_type": "code",
   "execution_count": 11,
   "metadata": {
    "collapsed": true
   },
   "outputs": [],
   "source": [
    "low_rated_business_data = low_rated_reviews[columnnames]"
   ]
  },
  {
   "cell_type": "code",
   "execution_count": 12,
   "metadata": {},
   "outputs": [
    {
     "data": {
      "text/plain": [
       "(16767, 9)"
      ]
     },
     "execution_count": 12,
     "metadata": {},
     "output_type": "execute_result"
    }
   ],
   "source": [
    "low_rated_business_data.shape"
   ]
  },
  {
   "cell_type": "code",
   "execution_count": 13,
   "metadata": {
    "collapsed": true
   },
   "outputs": [],
   "source": [
    "low_rated_business_data = low_rated_business_data.drop_duplicates()"
   ]
  },
  {
   "cell_type": "code",
   "execution_count": 14,
   "metadata": {},
   "outputs": [
    {
     "data": {
      "text/plain": [
       "(1001, 9)"
      ]
     },
     "execution_count": 14,
     "metadata": {},
     "output_type": "execute_result"
    }
   ],
   "source": [
    "low_rated_business_data.shape"
   ]
  },
  {
   "cell_type": "markdown",
   "metadata": {},
   "source": [
    "    There are 1001 unique business for which we are going to show improvements as they are low rated businesses"
   ]
  },
  {
   "cell_type": "code",
   "execution_count": 15,
   "metadata": {},
   "outputs": [
    {
     "data": {
      "text/plain": [
       "1.0    771\n",
       "2.0    219\n",
       "3.0      8\n",
       "4.0      3\n",
       "Name: RestaurantsPriceRange2, dtype: int64"
      ]
     },
     "execution_count": 15,
     "metadata": {},
     "output_type": "execute_result"
    }
   ],
   "source": [
    "low_rated_business_data.RestaurantsPriceRange2.value_counts()"
   ]
  },
  {
   "cell_type": "markdown",
   "metadata": {},
   "source": [
    "    Checking for different price ranges distribution...however we are not going to include the price range in further processing for data except for presenting the price range on UI"
   ]
  },
  {
   "cell_type": "markdown",
   "metadata": {},
   "source": [
    "### Filtering Out non English Data"
   ]
  },
  {
   "cell_type": "code",
   "execution_count": 16,
   "metadata": {
    "collapsed": true
   },
   "outputs": [],
   "source": [
    "#This method is going to return the language of each review text. \n",
    "#if the language is not identifiable by langdetect library, it will return nonknown\n",
    "def removeSpecialCharsandGetLanguage(text):\n",
    "    #print(text)\n",
    "    if(pd.isnull(text)):\n",
    "        text=\"\"    \n",
    "    lettersonly =  re.sub(\"[^a-zA-Z]\", \" \", text)\n",
    "    #print(lettersonly)\n",
    "    # 豬肋排好吃不油膩, 加點醋醬風味更佳。\\r\\n炭烤半雞也不賴。小菜不錯, 服務也很貼心, 吃...\n",
    "    #Above line is giving error with language detection. Hence we have put a try except block to ensure \n",
    "    #that it doesn't give exception when a non identifiable text appears\n",
    "    try:\n",
    "        lang=detect(lettersonly)\n",
    "    except:\n",
    "        lang='notknown'\n",
    "        pass\n",
    "    \n",
    "    return lang"
   ]
  },
  {
   "cell_type": "code",
   "execution_count": 17,
   "metadata": {
    "collapsed": true
   },
   "outputs": [],
   "source": [
    "#Implementing the language detection using dask libraries as it is very slow.\n",
    "def filterNonEnglishReviewsDask(df):\n",
    "    ddata = dd.from_pandas(df, npartitions=30)\n",
    "    lang = ddata.map_partitions(lambda df: df.apply((lambda row: removeSpecialCharsandGetLanguage(row[\"Review_text\"])), axis=1)).compute(get=get)\n",
    "    return lang"
   ]
  },
  {
   "cell_type": "code",
   "execution_count": 18,
   "metadata": {},
   "outputs": [
    {
     "name": "stderr",
     "output_type": "stream",
     "text": [
      "C:\\ProgramData\\Anaconda3\\lib\\site-packages\\dask\\base.py:835: UserWarning: The get= keyword has been deprecated. Please use the scheduler= keyword instead with the name of the desired scheduler like 'threads' or 'processes'\n",
      "  warnings.warn(\"The get= keyword has been deprecated. \"\n"
     ]
    }
   ],
   "source": [
    "#Apply language detection to the data\n",
    "\n",
    "lang = filterNonEnglishReviewsDask(reviews_data)\n",
    "reviews_data[\"lang\"] = lang"
   ]
  },
  {
   "cell_type": "code",
   "execution_count": 19,
   "metadata": {},
   "outputs": [
    {
     "name": "stdout",
     "output_type": "stream",
     "text": [
      "# of records before filtering for non english: 276327\n",
      "# of non english records filtered out: 246\n"
     ]
    }
   ],
   "source": [
    "totalreviewscount = reviews_data.shape[0]\n",
    "print(\"# of records before filtering for non english: %d\"%(totalreviewscount))\n",
    "    \n",
    "reviews_data= reviews_data[reviews_data[\"lang\"] == \"en\"] \n",
    "cntAfterFilter = reviews_data.shape[0]\n",
    "cntFiltered = totalreviewscount - cntAfterFilter\n",
    "print(\"# of non english records filtered out: %d\"%(cntFiltered))\n",
    "    "
   ]
  },
  {
   "cell_type": "code",
   "execution_count": 20,
   "metadata": {
    "collapsed": true
   },
   "outputs": [],
   "source": [
    "#This method is going to return the joined text for each business\n",
    "#this will be needed for calculating bigrams\n",
    "\n",
    "def JoinReviewsData(business_id):\n",
    "    data = reviews_data[reviews_data['Business_id'] == business_id]\n",
    "    text_rows = data['Review_text']\n",
    "    text = \" \".join(text_rows)\n",
    "    return text"
   ]
  },
  {
   "cell_type": "code",
   "execution_count": 21,
   "metadata": {
    "collapsed": true
   },
   "outputs": [],
   "source": [
    "#Apply the review joining for the business\n",
    "textAll = low_rated_business_data.Business_id.apply(JoinReviewsData)\n",
    "#Assign the joined review and top 5 reviews to the businessdata\n",
    "low_rated_business_data[\"JoinedText\"] = textAll"
   ]
  },
  {
   "cell_type": "markdown",
   "metadata": {},
   "source": [
    "### Get top 5 reviews for sample"
   ]
  },
  {
   "cell_type": "code",
   "execution_count": 22,
   "metadata": {
    "collapsed": true
   },
   "outputs": [],
   "source": [
    "#Following code will add 5 new columns to the dataframe low_rated_business_data\n",
    "#Each of the column is a sample review for the specific business id\n",
    "# We will create a dataframe named df which will contain the data initially.\n",
    "#later this will be merged with low_rated_business_data\n",
    "#we have ensured that if the number of sample reviews for the business is less than 5, this doesn't give exception\n",
    "\n",
    "cols = ['Business_id',\"Review_1\",\"Review_2\",\"Review_3\",\"Review_4\",\"Review_5\"]  \n",
    "df = pd.DataFrame( columns=cols)\n",
    "\n",
    "for business_id in low_rated_business_data[\"Business_id\"]:\n",
    "    df2 = pd.DataFrame([[ business_id,\"\",\"\",\"\",\"\",\"\"]], columns=cols)\n",
    "    df = df.append(df2)\n",
    "    data = reviews_data[reviews_data['Business_id'] == business_id].head(5)[\"Review_text\"]\n",
    "    length = data.count()\n",
    "    i=0\n",
    "    for review in data:\n",
    "        if i<length:\n",
    "            colname = \"Review_\"+str(i+1)\n",
    "            df.loc[df['Business_id'] == business_id, colname] = review\n",
    "        i=i+1\n",
    "        \n",
    "    "
   ]
  },
  {
   "cell_type": "code",
   "execution_count": 23,
   "metadata": {},
   "outputs": [
    {
     "data": {
      "text/html": [
       "<div>\n",
       "<style scoped>\n",
       "    .dataframe tbody tr th:only-of-type {\n",
       "        vertical-align: middle;\n",
       "    }\n",
       "\n",
       "    .dataframe tbody tr th {\n",
       "        vertical-align: top;\n",
       "    }\n",
       "\n",
       "    .dataframe thead th {\n",
       "        text-align: right;\n",
       "    }\n",
       "</style>\n",
       "<table border=\"1\" class=\"dataframe\">\n",
       "  <thead>\n",
       "    <tr style=\"text-align: right;\">\n",
       "      <th></th>\n",
       "      <th>Business_id</th>\n",
       "      <th>Review_1</th>\n",
       "      <th>Review_2</th>\n",
       "      <th>Review_3</th>\n",
       "      <th>Review_4</th>\n",
       "      <th>Review_5</th>\n",
       "    </tr>\n",
       "  </thead>\n",
       "  <tbody>\n",
       "    <tr>\n",
       "      <th>0</th>\n",
       "      <td>rDMptJYWtnMhpQu_rRXHng</td>\n",
       "      <td>The speed of delivery of my food order was ter...</td>\n",
       "      <td>I stopped by for a double quarter pounder with...</td>\n",
       "      <td>I was told tonight at 8:30 pm that they were n...</td>\n",
       "      <td>Cashier was disgusting and unsanitary. Picking...</td>\n",
       "      <td>Don't waste your money!  Terrible service. The...</td>\n",
       "    </tr>\n",
       "    <tr>\n",
       "      <th>0</th>\n",
       "      <td>qB15WElGAlI_eGWjn0kT2w</td>\n",
       "      <td>Very polite, decent customer service. The rice...</td>\n",
       "      <td>Wow. You guys should really work on ur service...</td>\n",
       "      <td>Slowest drive thru I have ever gone through. T...</td>\n",
       "      <td>Terrible service. Always a long wait. If you g...</td>\n",
       "      <td>Literally the slowest drive thru I've ever exp...</td>\n",
       "    </tr>\n",
       "  </tbody>\n",
       "</table>\n",
       "</div>"
      ],
      "text/plain": [
       "              Business_id                                           Review_1  \\\n",
       "0  rDMptJYWtnMhpQu_rRXHng  The speed of delivery of my food order was ter...   \n",
       "0  qB15WElGAlI_eGWjn0kT2w  Very polite, decent customer service. The rice...   \n",
       "\n",
       "                                            Review_2  \\\n",
       "0  I stopped by for a double quarter pounder with...   \n",
       "0  Wow. You guys should really work on ur service...   \n",
       "\n",
       "                                            Review_3  \\\n",
       "0  I was told tonight at 8:30 pm that they were n...   \n",
       "0  Slowest drive thru I have ever gone through. T...   \n",
       "\n",
       "                                            Review_4  \\\n",
       "0  Cashier was disgusting and unsanitary. Picking...   \n",
       "0  Terrible service. Always a long wait. If you g...   \n",
       "\n",
       "                                            Review_5  \n",
       "0  Don't waste your money!  Terrible service. The...  \n",
       "0  Literally the slowest drive thru I've ever exp...  "
      ]
     },
     "execution_count": 23,
     "metadata": {},
     "output_type": "execute_result"
    }
   ],
   "source": [
    "df.head(2)"
   ]
  },
  {
   "cell_type": "code",
   "execution_count": 24,
   "metadata": {
    "collapsed": true
   },
   "outputs": [],
   "source": [
    "low_rated_business_data_w_reviews = pd.merge(low_rated_business_data, df, on='Business_id')"
   ]
  },
  {
   "cell_type": "code",
   "execution_count": 25,
   "metadata": {},
   "outputs": [
    {
     "data": {
      "text/html": [
       "<div>\n",
       "<style scoped>\n",
       "    .dataframe tbody tr th:only-of-type {\n",
       "        vertical-align: middle;\n",
       "    }\n",
       "\n",
       "    .dataframe tbody tr th {\n",
       "        vertical-align: top;\n",
       "    }\n",
       "\n",
       "    .dataframe thead th {\n",
       "        text-align: right;\n",
       "    }\n",
       "</style>\n",
       "<table border=\"1\" class=\"dataframe\">\n",
       "  <thead>\n",
       "    <tr style=\"text-align: right;\">\n",
       "      <th></th>\n",
       "      <th>Business_id</th>\n",
       "      <th>Name</th>\n",
       "      <th>Address</th>\n",
       "      <th>City</th>\n",
       "      <th>State</th>\n",
       "      <th>Postal_code</th>\n",
       "      <th>Review_count</th>\n",
       "      <th>Restaurant_ratings</th>\n",
       "      <th>RestaurantsPriceRange2</th>\n",
       "      <th>JoinedText</th>\n",
       "      <th>Review_1</th>\n",
       "      <th>Review_2</th>\n",
       "      <th>Review_3</th>\n",
       "      <th>Review_4</th>\n",
       "      <th>Review_5</th>\n",
       "    </tr>\n",
       "  </thead>\n",
       "  <tbody>\n",
       "    <tr>\n",
       "      <th>0</th>\n",
       "      <td>rDMptJYWtnMhpQu_rRXHng</td>\n",
       "      <td>McDonald's</td>\n",
       "      <td>719 E Thunderbird Rd</td>\n",
       "      <td>Phoenix</td>\n",
       "      <td>AZ</td>\n",
       "      <td>85022.0</td>\n",
       "      <td>10.0</td>\n",
       "      <td>1.0</td>\n",
       "      <td>1.0</td>\n",
       "      <td>The speed of delivery of my food order was ter...</td>\n",
       "      <td>The speed of delivery of my food order was ter...</td>\n",
       "      <td>I stopped by for a double quarter pounder with...</td>\n",
       "      <td>I was told tonight at 8:30 pm that they were n...</td>\n",
       "      <td>Cashier was disgusting and unsanitary. Picking...</td>\n",
       "      <td>Don't waste your money!  Terrible service. The...</td>\n",
       "    </tr>\n",
       "    <tr>\n",
       "      <th>1</th>\n",
       "      <td>qB15WElGAlI_eGWjn0kT2w</td>\n",
       "      <td>Taco Bell</td>\n",
       "      <td>15240 N. 32nd Street</td>\n",
       "      <td>Phoenix</td>\n",
       "      <td>AZ</td>\n",
       "      <td>85032.0</td>\n",
       "      <td>18.0</td>\n",
       "      <td>2.0</td>\n",
       "      <td>1.0</td>\n",
       "      <td>Very polite, decent customer service. The rice...</td>\n",
       "      <td>Very polite, decent customer service. The rice...</td>\n",
       "      <td>Wow. You guys should really work on ur service...</td>\n",
       "      <td>Slowest drive thru I have ever gone through. T...</td>\n",
       "      <td>Terrible service. Always a long wait. If you g...</td>\n",
       "      <td>Literally the slowest drive thru I've ever exp...</td>\n",
       "    </tr>\n",
       "  </tbody>\n",
       "</table>\n",
       "</div>"
      ],
      "text/plain": [
       "              Business_id        Name               Address     City State  \\\n",
       "0  rDMptJYWtnMhpQu_rRXHng  McDonald's  719 E Thunderbird Rd  Phoenix    AZ   \n",
       "1  qB15WElGAlI_eGWjn0kT2w   Taco Bell  15240 N. 32nd Street  Phoenix    AZ   \n",
       "\n",
       "   Postal_code  Review_count  Restaurant_ratings  RestaurantsPriceRange2  \\\n",
       "0      85022.0          10.0                 1.0                     1.0   \n",
       "1      85032.0          18.0                 2.0                     1.0   \n",
       "\n",
       "                                          JoinedText  \\\n",
       "0  The speed of delivery of my food order was ter...   \n",
       "1  Very polite, decent customer service. The rice...   \n",
       "\n",
       "                                            Review_1  \\\n",
       "0  The speed of delivery of my food order was ter...   \n",
       "1  Very polite, decent customer service. The rice...   \n",
       "\n",
       "                                            Review_2  \\\n",
       "0  I stopped by for a double quarter pounder with...   \n",
       "1  Wow. You guys should really work on ur service...   \n",
       "\n",
       "                                            Review_3  \\\n",
       "0  I was told tonight at 8:30 pm that they were n...   \n",
       "1  Slowest drive thru I have ever gone through. T...   \n",
       "\n",
       "                                            Review_4  \\\n",
       "0  Cashier was disgusting and unsanitary. Picking...   \n",
       "1  Terrible service. Always a long wait. If you g...   \n",
       "\n",
       "                                            Review_5  \n",
       "0  Don't waste your money!  Terrible service. The...  \n",
       "1  Literally the slowest drive thru I've ever exp...  "
      ]
     },
     "execution_count": 25,
     "metadata": {},
     "output_type": "execute_result"
    }
   ],
   "source": [
    "low_rated_business_data_w_reviews.head(2)"
   ]
  },
  {
   "cell_type": "code",
   "execution_count": 26,
   "metadata": {
    "collapsed": true
   },
   "outputs": [],
   "source": [
    "#Saving the intermediate results\n",
    "low_rated_business_data_w_reviews.to_csv(\"low_rated_business_data_w_reviews.csv\", index=False)"
   ]
  },
  {
   "cell_type": "code",
   "execution_count": 27,
   "metadata": {
    "collapsed": true
   },
   "outputs": [],
   "source": [
    "#Loading from intermediate csvs\n",
    "\n",
    "lr_business_reviews = pd.read_csv(\"low_rated_business_data_w_reviews.csv\")\n",
    "                               "
   ]
  },
  {
   "cell_type": "code",
   "execution_count": 28,
   "metadata": {},
   "outputs": [
    {
     "data": {
      "text/html": [
       "<div>\n",
       "<style scoped>\n",
       "    .dataframe tbody tr th:only-of-type {\n",
       "        vertical-align: middle;\n",
       "    }\n",
       "\n",
       "    .dataframe tbody tr th {\n",
       "        vertical-align: top;\n",
       "    }\n",
       "\n",
       "    .dataframe thead th {\n",
       "        text-align: right;\n",
       "    }\n",
       "</style>\n",
       "<table border=\"1\" class=\"dataframe\">\n",
       "  <thead>\n",
       "    <tr style=\"text-align: right;\">\n",
       "      <th></th>\n",
       "      <th>Business_id</th>\n",
       "      <th>Name</th>\n",
       "      <th>Address</th>\n",
       "      <th>City</th>\n",
       "      <th>State</th>\n",
       "      <th>Postal_code</th>\n",
       "      <th>Review_count</th>\n",
       "      <th>Restaurant_ratings</th>\n",
       "      <th>RestaurantsPriceRange2</th>\n",
       "      <th>JoinedText</th>\n",
       "      <th>Review_1</th>\n",
       "      <th>Review_2</th>\n",
       "      <th>Review_3</th>\n",
       "      <th>Review_4</th>\n",
       "      <th>Review_5</th>\n",
       "    </tr>\n",
       "  </thead>\n",
       "  <tbody>\n",
       "    <tr>\n",
       "      <th>0</th>\n",
       "      <td>rDMptJYWtnMhpQu_rRXHng</td>\n",
       "      <td>McDonald's</td>\n",
       "      <td>719 E Thunderbird Rd</td>\n",
       "      <td>Phoenix</td>\n",
       "      <td>AZ</td>\n",
       "      <td>85022.0</td>\n",
       "      <td>10.0</td>\n",
       "      <td>1.0</td>\n",
       "      <td>1.0</td>\n",
       "      <td>The speed of delivery of my food order was ter...</td>\n",
       "      <td>The speed of delivery of my food order was ter...</td>\n",
       "      <td>I stopped by for a double quarter pounder with...</td>\n",
       "      <td>I was told tonight at 8:30 pm that they were n...</td>\n",
       "      <td>Cashier was disgusting and unsanitary. Picking...</td>\n",
       "      <td>Don't waste your money!  Terrible service. The...</td>\n",
       "    </tr>\n",
       "    <tr>\n",
       "      <th>1</th>\n",
       "      <td>qB15WElGAlI_eGWjn0kT2w</td>\n",
       "      <td>Taco Bell</td>\n",
       "      <td>15240 N. 32nd Street</td>\n",
       "      <td>Phoenix</td>\n",
       "      <td>AZ</td>\n",
       "      <td>85032.0</td>\n",
       "      <td>18.0</td>\n",
       "      <td>2.0</td>\n",
       "      <td>1.0</td>\n",
       "      <td>Very polite, decent customer service. The rice...</td>\n",
       "      <td>Very polite, decent customer service. The rice...</td>\n",
       "      <td>Wow. You guys should really work on ur service...</td>\n",
       "      <td>Slowest drive thru I have ever gone through. T...</td>\n",
       "      <td>Terrible service. Always a long wait. If you g...</td>\n",
       "      <td>Literally the slowest drive thru I've ever exp...</td>\n",
       "    </tr>\n",
       "  </tbody>\n",
       "</table>\n",
       "</div>"
      ],
      "text/plain": [
       "              Business_id        Name               Address     City State  \\\n",
       "0  rDMptJYWtnMhpQu_rRXHng  McDonald's  719 E Thunderbird Rd  Phoenix    AZ   \n",
       "1  qB15WElGAlI_eGWjn0kT2w   Taco Bell  15240 N. 32nd Street  Phoenix    AZ   \n",
       "\n",
       "   Postal_code  Review_count  Restaurant_ratings  RestaurantsPriceRange2  \\\n",
       "0      85022.0          10.0                 1.0                     1.0   \n",
       "1      85032.0          18.0                 2.0                     1.0   \n",
       "\n",
       "                                          JoinedText  \\\n",
       "0  The speed of delivery of my food order was ter...   \n",
       "1  Very polite, decent customer service. The rice...   \n",
       "\n",
       "                                            Review_1  \\\n",
       "0  The speed of delivery of my food order was ter...   \n",
       "1  Very polite, decent customer service. The rice...   \n",
       "\n",
       "                                            Review_2  \\\n",
       "0  I stopped by for a double quarter pounder with...   \n",
       "1  Wow. You guys should really work on ur service...   \n",
       "\n",
       "                                            Review_3  \\\n",
       "0  I was told tonight at 8:30 pm that they were n...   \n",
       "1  Slowest drive thru I have ever gone through. T...   \n",
       "\n",
       "                                            Review_4  \\\n",
       "0  Cashier was disgusting and unsanitary. Picking...   \n",
       "1  Terrible service. Always a long wait. If you g...   \n",
       "\n",
       "                                            Review_5  \n",
       "0  Don't waste your money!  Terrible service. The...  \n",
       "1  Literally the slowest drive thru I've ever exp...  "
      ]
     },
     "execution_count": 28,
     "metadata": {},
     "output_type": "execute_result"
    }
   ],
   "source": [
    "#verify a sample of the data\n",
    "lr_business_reviews.head(2)"
   ]
  },
  {
   "cell_type": "markdown",
   "metadata": {},
   "source": [
    "### Preprocessing and cleaning data for getting top 5 bigrams"
   ]
  },
  {
   "cell_type": "code",
   "execution_count": 29,
   "metadata": {
    "collapsed": true
   },
   "outputs": [],
   "source": [
    "#Define the stop words list\n",
    "stop =  set(stopwords.words(\"english\"))\n",
    "    \n",
    "#This method is performing following steps:\n",
    "'''\n",
    "1. Removing any html tokens\n",
    "2. removing any special charatcters\n",
    "3. removing any numeric character\n",
    "4.removing extra spaces\n",
    "5. filtering the stop words\n",
    "6. bringing all the words to lower casing\n",
    "'''\n",
    "def cleanText(reviewText):\n",
    "    htmlremoved = re.sub(re.compile('<.*?>'), '', str(reviewText)) \n",
    "    filtered_review_token =  [word for word in htmlremoved.split() if word.lower() not in stop]\n",
    "    joined = \" \".join(filtered_review_token)\n",
    "    lettersonly =  re.sub(\"[^a-zA-Z]\", \" \", joined)\n",
    "    spaceremoved = re.sub(' +',' ',str(lettersonly)) #re.sub('  ', ' ', str(lettersonly))\n",
    "    lower = spaceremoved.lower()\n",
    "    return lower"
   ]
  },
  {
   "cell_type": "code",
   "execution_count": 30,
   "metadata": {
    "collapsed": true
   },
   "outputs": [],
   "source": [
    "#This was fast..did not require the Dask implementation\n",
    "lr_business_reviews[\"cleantext\"] = lr_business_reviews.JoinedText.apply(cleanText)"
   ]
  },
  {
   "cell_type": "code",
   "execution_count": 31,
   "metadata": {},
   "outputs": [
    {
     "data": {
      "text/html": [
       "<div>\n",
       "<style scoped>\n",
       "    .dataframe tbody tr th:only-of-type {\n",
       "        vertical-align: middle;\n",
       "    }\n",
       "\n",
       "    .dataframe tbody tr th {\n",
       "        vertical-align: top;\n",
       "    }\n",
       "\n",
       "    .dataframe thead th {\n",
       "        text-align: right;\n",
       "    }\n",
       "</style>\n",
       "<table border=\"1\" class=\"dataframe\">\n",
       "  <thead>\n",
       "    <tr style=\"text-align: right;\">\n",
       "      <th></th>\n",
       "      <th>Business_id</th>\n",
       "      <th>Name</th>\n",
       "      <th>Address</th>\n",
       "      <th>City</th>\n",
       "      <th>State</th>\n",
       "      <th>Postal_code</th>\n",
       "      <th>Review_count</th>\n",
       "      <th>Restaurant_ratings</th>\n",
       "      <th>RestaurantsPriceRange2</th>\n",
       "      <th>JoinedText</th>\n",
       "      <th>Review_1</th>\n",
       "      <th>Review_2</th>\n",
       "      <th>Review_3</th>\n",
       "      <th>Review_4</th>\n",
       "      <th>Review_5</th>\n",
       "      <th>cleantext</th>\n",
       "    </tr>\n",
       "  </thead>\n",
       "  <tbody>\n",
       "    <tr>\n",
       "      <th>0</th>\n",
       "      <td>rDMptJYWtnMhpQu_rRXHng</td>\n",
       "      <td>McDonald's</td>\n",
       "      <td>719 E Thunderbird Rd</td>\n",
       "      <td>Phoenix</td>\n",
       "      <td>AZ</td>\n",
       "      <td>85022.0</td>\n",
       "      <td>10.0</td>\n",
       "      <td>1.0</td>\n",
       "      <td>1.0</td>\n",
       "      <td>The speed of delivery of my food order was ter...</td>\n",
       "      <td>The speed of delivery of my food order was ter...</td>\n",
       "      <td>I stopped by for a double quarter pounder with...</td>\n",
       "      <td>I was told tonight at 8:30 pm that they were n...</td>\n",
       "      <td>Cashier was disgusting and unsanitary. Picking...</td>\n",
       "      <td>Don't waste your money!  Terrible service. The...</td>\n",
       "      <td>speed delivery food order terrible took minute...</td>\n",
       "    </tr>\n",
       "    <tr>\n",
       "      <th>1</th>\n",
       "      <td>qB15WElGAlI_eGWjn0kT2w</td>\n",
       "      <td>Taco Bell</td>\n",
       "      <td>15240 N. 32nd Street</td>\n",
       "      <td>Phoenix</td>\n",
       "      <td>AZ</td>\n",
       "      <td>85032.0</td>\n",
       "      <td>18.0</td>\n",
       "      <td>2.0</td>\n",
       "      <td>1.0</td>\n",
       "      <td>Very polite, decent customer service. The rice...</td>\n",
       "      <td>Very polite, decent customer service. The rice...</td>\n",
       "      <td>Wow. You guys should really work on ur service...</td>\n",
       "      <td>Slowest drive thru I have ever gone through. T...</td>\n",
       "      <td>Terrible service. Always a long wait. If you g...</td>\n",
       "      <td>Literally the slowest drive thru I've ever exp...</td>\n",
       "      <td>polite decent customer service rice burrito ha...</td>\n",
       "    </tr>\n",
       "  </tbody>\n",
       "</table>\n",
       "</div>"
      ],
      "text/plain": [
       "              Business_id        Name               Address     City State  \\\n",
       "0  rDMptJYWtnMhpQu_rRXHng  McDonald's  719 E Thunderbird Rd  Phoenix    AZ   \n",
       "1  qB15WElGAlI_eGWjn0kT2w   Taco Bell  15240 N. 32nd Street  Phoenix    AZ   \n",
       "\n",
       "   Postal_code  Review_count  Restaurant_ratings  RestaurantsPriceRange2  \\\n",
       "0      85022.0          10.0                 1.0                     1.0   \n",
       "1      85032.0          18.0                 2.0                     1.0   \n",
       "\n",
       "                                          JoinedText  \\\n",
       "0  The speed of delivery of my food order was ter...   \n",
       "1  Very polite, decent customer service. The rice...   \n",
       "\n",
       "                                            Review_1  \\\n",
       "0  The speed of delivery of my food order was ter...   \n",
       "1  Very polite, decent customer service. The rice...   \n",
       "\n",
       "                                            Review_2  \\\n",
       "0  I stopped by for a double quarter pounder with...   \n",
       "1  Wow. You guys should really work on ur service...   \n",
       "\n",
       "                                            Review_3  \\\n",
       "0  I was told tonight at 8:30 pm that they were n...   \n",
       "1  Slowest drive thru I have ever gone through. T...   \n",
       "\n",
       "                                            Review_4  \\\n",
       "0  Cashier was disgusting and unsanitary. Picking...   \n",
       "1  Terrible service. Always a long wait. If you g...   \n",
       "\n",
       "                                            Review_5  \\\n",
       "0  Don't waste your money!  Terrible service. The...   \n",
       "1  Literally the slowest drive thru I've ever exp...   \n",
       "\n",
       "                                           cleantext  \n",
       "0  speed delivery food order terrible took minute...  \n",
       "1  polite decent customer service rice burrito ha...  "
      ]
     },
     "execution_count": 31,
     "metadata": {},
     "output_type": "execute_result"
    }
   ],
   "source": [
    "lr_business_reviews.head(2)"
   ]
  },
  {
   "cell_type": "markdown",
   "metadata": {},
   "source": [
    "## Creating top 5 Bigrams\n"
   ]
  },
  {
   "cell_type": "code",
   "execution_count": 32,
   "metadata": {
    "collapsed": true
   },
   "outputs": [],
   "source": [
    "#This function is created to create Bigrams\n",
    "#This is taking 2 consecutive words as they appear in the document and create a bigram\n",
    "\n",
    "def calculateBigrams(tokens):\n",
    "    bigrams = [(tokens[i],tokens[i+1]) for i in range(0,len(tokens)-1)]\n",
    "    return bigrams\n",
    "    \n"
   ]
  },
  {
   "cell_type": "code",
   "execution_count": 33,
   "metadata": {
    "collapsed": true
   },
   "outputs": [],
   "source": [
    "bigramCols = ['Business_id',\"Top5Bigrams_1\",\"Top5Bigrams_2\",\"Top5Bigrams_3\",\"Top5Bigrams_4\",\"Top5Bigrams_5\"]\n",
    "bigramDf = pd.DataFrame( columns= bigramCols)"
   ]
  },
  {
   "cell_type": "code",
   "execution_count": 34,
   "metadata": {
    "collapsed": true
   },
   "outputs": [],
   "source": [
    "#This function is performing following steps:\n",
    "\n",
    "#1. taking the cleantext and splitting it to tokenise. \n",
    "#2. get the bigrams using the function\n",
    "#3. get the polarity of each bigram using the textblob library\n",
    "#4. if the bigram has negative polarity, then saving the bigram ina dataframe along with the polarity score\n",
    "#5. Removing dplicate rows from the bigram datafram\n",
    "#6. Sorting the dataframe based on polarity score\n",
    "#7. Taking the top 5 negative polarity bigrams\n",
    "#8. Creating a text out of negatively polar bigram in a UI presentable format\n",
    "\n",
    "def gettop5Bigrams(cleantext):\n",
    "    tokens = cleantext.split(\" \")\n",
    "    bigram = calculateBigrams(tokens)\n",
    "    negative_bigrams = []\n",
    "    neg=0\n",
    "    #Need to create a dataframe with 2 columns, bigram name and polarity \n",
    "    df = pd.DataFrame( columns=[\"Bigram\",\"polarity\"])\n",
    "    for x,y in bigram:\n",
    "        #print(x +\" \"+y)\n",
    "        text=x +\" \"+y\n",
    "        analysis = TextBlob(text)\n",
    "        polarity = analysis.sentiment.polarity\n",
    "        #print(x +\" \"+y + str(polarity))\n",
    "        if polarity < 0:\n",
    "            df.loc[len(df)] = [text, polarity]\n",
    "            #print(text)\n",
    "    df = df.drop_duplicates()\n",
    "    df_sorted = df.sort_values('polarity')\n",
    "    #df_sorted.head(50)\n",
    "    head = df_sorted.head(5).Bigram\n",
    "    #print(df_sorted.head(50))\n",
    "    top5 = ''\n",
    "    i=0\n",
    "    for t in head:\n",
    "        i = i+1\n",
    "        top5 = top5 + \"|\"+ t\n",
    "    return top5\n",
    "   \n",
    "    "
   ]
  },
  {
   "cell_type": "code",
   "execution_count": 35,
   "metadata": {},
   "outputs": [
    {
     "data": {
      "text/plain": [
       "'|the worst|worst dining|and horrible|horrible service|been awful'"
      ]
     },
     "execution_count": 35,
     "metadata": {},
     "output_type": "execute_result"
    }
   ],
   "source": [
    "gettop5Bigrams(\"Sun Devil Dining on Lemon Street has probably been the worst dining experience I have ever had. Day after day, they run out of pretty much everything half way through the day, including probably the most popular item, grilled chicken. They don't even care to have the food prepared by 11am, which is the time they tell everyone the main food options will be available by. Along with many other students, I am sick and tired of shitty food and horrible service by the workers. Except for Ashley, she has always been happy and smiling. Everything about this dining hall has been awful and if there were a way for me to take my money back, and put that towards something else, preferably food that is edible, I would greatly appreciate it. Hopefully this will reach the eyes of someone in charge so they can change these ways and start making students happy. But until then, Keep up the shitty service.\")"
   ]
  },
  {
   "cell_type": "code",
   "execution_count": 36,
   "metadata": {
    "collapsed": true
   },
   "outputs": [],
   "source": [
    "#Calculating the top 5 bigrams using distributed task(Dask) library for better performace\n",
    "def getNegativeDaskTop5(df):\n",
    "    ddata1 = dd.from_pandas(df, npartitions=30)\n",
    "    txt = ddata1.map_partitions(lambda df: df.apply((lambda row: gettop5Bigrams(row[\"cleantext\"])), axis=1)).compute(get=get)\n",
    "    return txt\n"
   ]
  },
  {
   "cell_type": "code",
   "execution_count": 37,
   "metadata": {
    "collapsed": true
   },
   "outputs": [],
   "source": [
    "lr_business_reviews[\"Top5Bigrams\"] = getNegativeDaskTop5(lr_business_reviews)"
   ]
  },
  {
   "cell_type": "code",
   "execution_count": 38,
   "metadata": {},
   "outputs": [
    {
     "data": {
      "text/plain": [
       "(1001, 17)"
      ]
     },
     "execution_count": 38,
     "metadata": {},
     "output_type": "execute_result"
    }
   ],
   "source": [
    "lr_business_reviews.shape\n"
   ]
  },
  {
   "cell_type": "code",
   "execution_count": 39,
   "metadata": {},
   "outputs": [
    {
     "data": {
      "text/plain": [
       "Index(['Business_id', 'Name', 'Address', 'City', 'State', 'Postal_code',\n",
       "       'Review_count', 'Restaurant_ratings', 'RestaurantsPriceRange2',\n",
       "       'JoinedText', 'Review_1', 'Review_2', 'Review_3', 'Review_4',\n",
       "       'Review_5', 'cleantext', 'Top5Bigrams'],\n",
       "      dtype='object')"
      ]
     },
     "execution_count": 39,
     "metadata": {},
     "output_type": "execute_result"
    }
   ],
   "source": [
    "lr_business_reviews.columns"
   ]
  },
  {
   "cell_type": "code",
   "execution_count": 40,
   "metadata": {
    "collapsed": true
   },
   "outputs": [],
   "source": [
    "lr_business_reviews_copy  = lr_business_reviews.copy(deep=True)"
   ]
  },
  {
   "cell_type": "code",
   "execution_count": 41,
   "metadata": {},
   "outputs": [
    {
     "data": {
      "text/plain": [
       "Business_id               1001\n",
       "Name                      1001\n",
       "Address                   1001\n",
       "City                      1001\n",
       "State                     1001\n",
       "Postal_code               1001\n",
       "Review_count              1001\n",
       "Restaurant_ratings        1001\n",
       "RestaurantsPriceRange2    1001\n",
       "JoinedText                1001\n",
       "Review_1                  1001\n",
       "Review_2                   981\n",
       "Review_3                   938\n",
       "Review_4                   871\n",
       "Review_5                   821\n",
       "cleantext                 1001\n",
       "Top5Bigrams               1001\n",
       "dtype: int64"
      ]
     },
     "execution_count": 41,
     "metadata": {},
     "output_type": "execute_result"
    }
   ],
   "source": [
    "lr_business_reviews.count()"
   ]
  },
  {
   "cell_type": "code",
   "execution_count": 42,
   "metadata": {
    "collapsed": true
   },
   "outputs": [],
   "source": [
    "lr_business_reviews.to_csv(\"lr_business_reviews_top5.csv\", index=False, sep=\"\\t\")"
   ]
  },
  {
   "cell_type": "code",
   "execution_count": 43,
   "metadata": {
    "collapsed": true
   },
   "outputs": [],
   "source": [
    "##Following lined of code will create a dataframe which will have 5 bigrams columns for each business id. \n",
    "#these bigrams are the bigrams sorted in negative order\n",
    "\n",
    "for index,row in lr_business_reviews.iterrows():\n",
    "    business_id = row[\"Business_id\"]\n",
    "    \n",
    "    bigrams = row[\"Top5Bigrams\"]\n",
    "    lst = bigrams.split(\"|\")\n",
    "    for item in lst:\n",
    "        if item== \"\":\n",
    "            lst.remove(item)\n",
    "                   \n",
    "                   \n",
    "    df2 = pd.DataFrame([[ business_id,\"\",\"\",\"\",\"\",\"\"]], columns=bigramCols)\n",
    "    bigramDf = bigramDf.append(df2)\n",
    "    \n",
    "    length = len(lst)\n",
    "    i=0\n",
    "    for bigram in lst:\n",
    "        #print(review)\n",
    "        if i<length:\n",
    "            colname = \"Top5Bigrams_\"+str(i+1)\n",
    "            #df[df['Business_id']==business_id][colname] = review\n",
    "            bigramDf.loc[bigramDf['Business_id'] == business_id, colname] = bigram\n",
    "        i=i+1\n",
    "        \n",
    "    "
   ]
  },
  {
   "cell_type": "code",
   "execution_count": 44,
   "metadata": {},
   "outputs": [
    {
     "data": {
      "text/html": [
       "<div>\n",
       "<style scoped>\n",
       "    .dataframe tbody tr th:only-of-type {\n",
       "        vertical-align: middle;\n",
       "    }\n",
       "\n",
       "    .dataframe tbody tr th {\n",
       "        vertical-align: top;\n",
       "    }\n",
       "\n",
       "    .dataframe thead th {\n",
       "        text-align: right;\n",
       "    }\n",
       "</style>\n",
       "<table border=\"1\" class=\"dataframe\">\n",
       "  <thead>\n",
       "    <tr style=\"text-align: right;\">\n",
       "      <th></th>\n",
       "      <th>Business_id</th>\n",
       "      <th>Top5Bigrams_1</th>\n",
       "      <th>Top5Bigrams_2</th>\n",
       "      <th>Top5Bigrams_3</th>\n",
       "      <th>Top5Bigrams_4</th>\n",
       "      <th>Top5Bigrams_5</th>\n",
       "    </tr>\n",
       "  </thead>\n",
       "  <tbody>\n",
       "    <tr>\n",
       "      <th>0</th>\n",
       "      <td>rDMptJYWtnMhpQu_rRXHng</td>\n",
       "      <td>order terrible</td>\n",
       "      <td>horrible gave</td>\n",
       "      <td>wage horrible</td>\n",
       "      <td>worst mcdonald</td>\n",
       "      <td>world worst</td>\n",
       "    </tr>\n",
       "    <tr>\n",
       "      <th>0</th>\n",
       "      <td>qB15WElGAlI_eGWjn0kT2w</td>\n",
       "      <td>terrible experiences</td>\n",
       "      <td>bell terrible</td>\n",
       "      <td>me terrible</td>\n",
       "      <td>terrible service</td>\n",
       "      <td>one awful</td>\n",
       "    </tr>\n",
       "    <tr>\n",
       "      <th>0</th>\n",
       "      <td>1Nq7GxjvEDgAJxBeOjR_9Q</td>\n",
       "      <td>worst part</td>\n",
       "      <td>place disgusting</td>\n",
       "      <td>working terrible</td>\n",
       "      <td>terrible went</td>\n",
       "      <td>horrible people</td>\n",
       "    </tr>\n",
       "    <tr>\n",
       "      <th>0</th>\n",
       "      <td>mZK8IBkMFzOX2UmA7_BylA</td>\n",
       "      <td>worst ihop</td>\n",
       "      <td>make horrible</td>\n",
       "      <td>truly worst</td>\n",
       "      <td>horrible burnt</td>\n",
       "      <td>worst experience</td>\n",
       "    </tr>\n",
       "    <tr>\n",
       "      <th>0</th>\n",
       "      <td>mI5UYpuYxjiumMLgANoa9A</td>\n",
       "      <td>terrible everything</td>\n",
       "      <td>location worst</td>\n",
       "      <td>terrible business</td>\n",
       "      <td>onions terrible</td>\n",
       "      <td>terrible every</td>\n",
       "    </tr>\n",
       "  </tbody>\n",
       "</table>\n",
       "</div>"
      ],
      "text/plain": [
       "              Business_id         Top5Bigrams_1     Top5Bigrams_2  \\\n",
       "0  rDMptJYWtnMhpQu_rRXHng        order terrible     horrible gave   \n",
       "0  qB15WElGAlI_eGWjn0kT2w  terrible experiences     bell terrible   \n",
       "0  1Nq7GxjvEDgAJxBeOjR_9Q            worst part  place disgusting   \n",
       "0  mZK8IBkMFzOX2UmA7_BylA            worst ihop     make horrible   \n",
       "0  mI5UYpuYxjiumMLgANoa9A   terrible everything    location worst   \n",
       "\n",
       "       Top5Bigrams_3     Top5Bigrams_4     Top5Bigrams_5  \n",
       "0      wage horrible    worst mcdonald       world worst  \n",
       "0        me terrible  terrible service         one awful  \n",
       "0   working terrible     terrible went   horrible people  \n",
       "0        truly worst    horrible burnt  worst experience  \n",
       "0  terrible business   onions terrible    terrible every  "
      ]
     },
     "execution_count": 44,
     "metadata": {},
     "output_type": "execute_result"
    }
   ],
   "source": [
    "bigramDf.head()"
   ]
  },
  {
   "cell_type": "code",
   "execution_count": 45,
   "metadata": {},
   "outputs": [
    {
     "data": {
      "text/plain": [
       "(1001, 6)"
      ]
     },
     "execution_count": 45,
     "metadata": {},
     "output_type": "execute_result"
    }
   ],
   "source": [
    "bigramDf.shape"
   ]
  },
  {
   "cell_type": "code",
   "execution_count": 46,
   "metadata": {
    "collapsed": true
   },
   "outputs": [],
   "source": [
    "#Merge bigrams data with the business data to add 5 new columns for 5 bigrams\n",
    "lr_business_reviews_bigrams = pd.merge(lr_business_reviews , bigramDf, on='Business_id')"
   ]
  },
  {
   "cell_type": "code",
   "execution_count": 47,
   "metadata": {},
   "outputs": [
    {
     "data": {
      "text/plain": [
       "(1001, 22)"
      ]
     },
     "execution_count": 47,
     "metadata": {},
     "output_type": "execute_result"
    }
   ],
   "source": [
    "lr_business_reviews_bigrams.shape"
   ]
  },
  {
   "cell_type": "code",
   "execution_count": 48,
   "metadata": {},
   "outputs": [
    {
     "data": {
      "text/html": [
       "<div>\n",
       "<style scoped>\n",
       "    .dataframe tbody tr th:only-of-type {\n",
       "        vertical-align: middle;\n",
       "    }\n",
       "\n",
       "    .dataframe tbody tr th {\n",
       "        vertical-align: top;\n",
       "    }\n",
       "\n",
       "    .dataframe thead th {\n",
       "        text-align: right;\n",
       "    }\n",
       "</style>\n",
       "<table border=\"1\" class=\"dataframe\">\n",
       "  <thead>\n",
       "    <tr style=\"text-align: right;\">\n",
       "      <th></th>\n",
       "      <th>Business_id</th>\n",
       "      <th>Name</th>\n",
       "      <th>Address</th>\n",
       "      <th>City</th>\n",
       "      <th>State</th>\n",
       "      <th>Postal_code</th>\n",
       "      <th>Review_count</th>\n",
       "      <th>Restaurant_ratings</th>\n",
       "      <th>RestaurantsPriceRange2</th>\n",
       "      <th>JoinedText</th>\n",
       "      <th>...</th>\n",
       "      <th>Review_3</th>\n",
       "      <th>Review_4</th>\n",
       "      <th>Review_5</th>\n",
       "      <th>cleantext</th>\n",
       "      <th>Top5Bigrams</th>\n",
       "      <th>Top5Bigrams_1</th>\n",
       "      <th>Top5Bigrams_2</th>\n",
       "      <th>Top5Bigrams_3</th>\n",
       "      <th>Top5Bigrams_4</th>\n",
       "      <th>Top5Bigrams_5</th>\n",
       "    </tr>\n",
       "  </thead>\n",
       "  <tbody>\n",
       "    <tr>\n",
       "      <th>0</th>\n",
       "      <td>rDMptJYWtnMhpQu_rRXHng</td>\n",
       "      <td>McDonald's</td>\n",
       "      <td>719 E Thunderbird Rd</td>\n",
       "      <td>Phoenix</td>\n",
       "      <td>AZ</td>\n",
       "      <td>85022.0</td>\n",
       "      <td>10.0</td>\n",
       "      <td>1.0</td>\n",
       "      <td>1.0</td>\n",
       "      <td>The speed of delivery of my food order was ter...</td>\n",
       "      <td>...</td>\n",
       "      <td>I was told tonight at 8:30 pm that they were n...</td>\n",
       "      <td>Cashier was disgusting and unsanitary. Picking...</td>\n",
       "      <td>Don't waste your money!  Terrible service. The...</td>\n",
       "      <td>speed delivery food order terrible took minute...</td>\n",
       "      <td>|order terrible|horrible gave|wage horrible|wo...</td>\n",
       "      <td>order terrible</td>\n",
       "      <td>horrible gave</td>\n",
       "      <td>wage horrible</td>\n",
       "      <td>worst mcdonald</td>\n",
       "      <td>world worst</td>\n",
       "    </tr>\n",
       "    <tr>\n",
       "      <th>1</th>\n",
       "      <td>qB15WElGAlI_eGWjn0kT2w</td>\n",
       "      <td>Taco Bell</td>\n",
       "      <td>15240 N. 32nd Street</td>\n",
       "      <td>Phoenix</td>\n",
       "      <td>AZ</td>\n",
       "      <td>85032.0</td>\n",
       "      <td>18.0</td>\n",
       "      <td>2.0</td>\n",
       "      <td>1.0</td>\n",
       "      <td>Very polite, decent customer service. The rice...</td>\n",
       "      <td>...</td>\n",
       "      <td>Slowest drive thru I have ever gone through. T...</td>\n",
       "      <td>Terrible service. Always a long wait. If you g...</td>\n",
       "      <td>Literally the slowest drive thru I've ever exp...</td>\n",
       "      <td>polite decent customer service rice burrito ha...</td>\n",
       "      <td>|terrible experiences|bell terrible|me terribl...</td>\n",
       "      <td>terrible experiences</td>\n",
       "      <td>bell terrible</td>\n",
       "      <td>me terrible</td>\n",
       "      <td>terrible service</td>\n",
       "      <td>one awful</td>\n",
       "    </tr>\n",
       "  </tbody>\n",
       "</table>\n",
       "<p>2 rows × 22 columns</p>\n",
       "</div>"
      ],
      "text/plain": [
       "              Business_id        Name               Address     City State  \\\n",
       "0  rDMptJYWtnMhpQu_rRXHng  McDonald's  719 E Thunderbird Rd  Phoenix    AZ   \n",
       "1  qB15WElGAlI_eGWjn0kT2w   Taco Bell  15240 N. 32nd Street  Phoenix    AZ   \n",
       "\n",
       "   Postal_code  Review_count  Restaurant_ratings  RestaurantsPriceRange2  \\\n",
       "0      85022.0          10.0                 1.0                     1.0   \n",
       "1      85032.0          18.0                 2.0                     1.0   \n",
       "\n",
       "                                          JoinedText      ...       \\\n",
       "0  The speed of delivery of my food order was ter...      ...        \n",
       "1  Very polite, decent customer service. The rice...      ...        \n",
       "\n",
       "                                            Review_3  \\\n",
       "0  I was told tonight at 8:30 pm that they were n...   \n",
       "1  Slowest drive thru I have ever gone through. T...   \n",
       "\n",
       "                                            Review_4  \\\n",
       "0  Cashier was disgusting and unsanitary. Picking...   \n",
       "1  Terrible service. Always a long wait. If you g...   \n",
       "\n",
       "                                            Review_5  \\\n",
       "0  Don't waste your money!  Terrible service. The...   \n",
       "1  Literally the slowest drive thru I've ever exp...   \n",
       "\n",
       "                                           cleantext  \\\n",
       "0  speed delivery food order terrible took minute...   \n",
       "1  polite decent customer service rice burrito ha...   \n",
       "\n",
       "                                         Top5Bigrams         Top5Bigrams_1  \\\n",
       "0  |order terrible|horrible gave|wage horrible|wo...        order terrible   \n",
       "1  |terrible experiences|bell terrible|me terribl...  terrible experiences   \n",
       "\n",
       "   Top5Bigrams_2  Top5Bigrams_3     Top5Bigrams_4 Top5Bigrams_5  \n",
       "0  horrible gave  wage horrible    worst mcdonald   world worst  \n",
       "1  bell terrible    me terrible  terrible service     one awful  \n",
       "\n",
       "[2 rows x 22 columns]"
      ]
     },
     "execution_count": 48,
     "metadata": {},
     "output_type": "execute_result"
    }
   ],
   "source": [
    "lr_business_reviews_bigrams.head(2)"
   ]
  },
  {
   "cell_type": "code",
   "execution_count": 49,
   "metadata": {
    "collapsed": true
   },
   "outputs": [],
   "source": [
    "#Saving the data to a csv for UI presentation\n",
    "columns = ['Business_id','Name','Address','City','State','Postal_code','Review_count','Restaurant_ratings','RestaurantsPriceRange2',\"Review_1\",\"Review_2\",\"Review_3\",\"Review_4\",\"Review_5\",\"Top5Bigrams_1\",\"Top5Bigrams_2\",\"Top5Bigrams_3\",\"Top5Bigrams_4\",\"Top5Bigrams_5\"]\n",
    "low_rated_business_reviews_csv =lr_business_reviews_bigrams[columns]\n"
   ]
  },
  {
   "cell_type": "code",
   "execution_count": 50,
   "metadata": {
    "collapsed": true
   },
   "outputs": [],
   "source": [
    "lr_business_reviews_bigrams.to_csv(\"low_rated_business_reviews.csv\",encoding='utf-8', index=False)\n",
    "    "
   ]
  },
  {
   "cell_type": "markdown",
   "metadata": {},
   "source": []
  },
  {
   "cell_type": "code",
   "execution_count": 51,
   "metadata": {
    "collapsed": true
   },
   "outputs": [],
   "source": [
    " pd.reset_option('display.max_colwidth')"
   ]
  }
 ],
 "metadata": {
  "kernelspec": {
   "display_name": "Python [default]",
   "language": "python",
   "name": "python3"
  },
  "language_info": {
   "codemirror_mode": {
    "name": "ipython",
    "version": 3
   },
   "file_extension": ".py",
   "mimetype": "text/x-python",
   "name": "python",
   "nbconvert_exporter": "python",
   "pygments_lexer": "ipython3",
   "version": "3.6.5"
  }
 },
 "nbformat": 4,
 "nbformat_minor": 2
}
